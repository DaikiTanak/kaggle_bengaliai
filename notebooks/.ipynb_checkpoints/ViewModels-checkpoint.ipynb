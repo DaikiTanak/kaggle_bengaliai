{
 "cells": [
  {
   "cell_type": "code",
   "execution_count": 6,
   "metadata": {
    "ExecuteTime": {
     "end_time": "2020-03-10T09:31:06.179221Z",
     "start_time": "2020-03-10T09:31:06.175395Z"
    }
   },
   "outputs": [],
   "source": [
    "import torch\n",
    "import os\n",
    "import numpy as np\n",
    "import gc\n",
    "import joblib\n"
   ]
  },
  {
   "cell_type": "code",
   "execution_count": 7,
   "metadata": {
    "ExecuteTime": {
     "end_time": "2020-03-10T09:31:06.479524Z",
     "start_time": "2020-03-10T09:31:06.476231Z"
    }
   },
   "outputs": [
    {
     "data": {
      "text/plain": [
       "['resnet34_stratified_scalescrop.5_rotate11_fold1.dat',\n",
       " '.ipynb_checkpoints',\n",
       " 'densenet_augment.dat',\n",
       " 'resnet152_augment.dat',\n",
       " 'resnet34_augment.dat',\n",
       " 'densenet_cutmix_0.2.dat',\n",
       " 'densenet_cutmix.dat',\n",
       " 'densenet_cutmix_beta_.1.dat',\n",
       " 'densenet_mixup_alpha.3.dat',\n",
       " 'densenet_mixup_alpha.1.dat',\n",
       " 'resnet34_base.dat',\n",
       " 'resnet34_mixup_alpha.1.dat',\n",
       " 'resnet34_mixup_alpha.3.dat',\n",
       " 'resnet34_cutmix_alpha.1.dat',\n",
       " 'resnet34_stratified_scalescrop.05_rotate11_fold1.dat',\n",
       " 'multi_resnet34_base_label1.dat',\n",
       " 'multi_resnet34_base_label2.dat',\n",
       " 'multi_resnet34_base_label3.dat',\n",
       " 'multi_resnet34_mixup_alpha.3_label1.dat',\n",
       " 'multi_resnet34_mixup_alpha.3_label2.dat',\n",
       " 'multi_resnet34_mixup_alpha.3_label3.dat',\n",
       " 'resnet34_cutmix_alpha.3.dat',\n",
       " 'densenet_base.dat',\n",
       " 'resnext101_base.dat',\n",
       " 'resnext101_cutmix_alpha.3.dat',\n",
       " 'resnext101_cutmix_alpha.1.dat',\n",
       " 'resnext101_mixup_alpha.1.dat',\n",
       " 'resnet34_stratified.dat',\n",
       " 'resnet34_stratified_cutmix.4.dat',\n",
       " 'resnet34_stratified_cutout.5.dat',\n",
       " 'resnet34_stratified_weighted_loss.dat',\n",
       " 'resnet34_stratified_cutout.5_fold1.dat',\n",
       " 'resnet34_stratified_cutout.3_fold1.dat',\n",
       " 'resnet34_stratified_cutout.1_fold1.dat',\n",
       " 'resnet34_stratified_cutout.4_fold1.dat',\n",
       " 'resnet34_stratified_cutout.6_fold1.dat',\n",
       " 'resnet34_stratified_cutout.7_fold1.dat',\n",
       " 'resnet34_stratified_cutout.8_fold1.dat',\n",
       " 'resnet34_stratified_random_erasing_fold1.dat',\n",
       " 'resnet34_stratified_shift.01_fold1.dat',\n",
       " 'resnet34_stratified_shift.1_fold1.dat',\n",
       " 'resnet34_stratified_shift.2_fold1.dat',\n",
       " 'resnet34_stratified_cutout.6_random_fold1.dat',\n",
       " 'resnet34_stratified_shift.3_fold1.dat',\n",
       " 'resnet34_stratified_rotate8_fold1.dat',\n",
       " 'resnet34_stratified_shift.4_fold1.dat',\n",
       " 'resnet34_stratified_shift.5_fold1.dat',\n",
       " 'resnet34_stratified_rotate5_fold1.dat',\n",
       " 'resnet34_stratified_rotate11_fold1.dat',\n",
       " 'resnet34_stratified_rotate15_fold1.dat',\n",
       " 'resnet34_stratified_shift.3_cutout.6_random_fold1.dat',\n",
       " 'resnet34_stratified_shift.5_cutout.6_random_fold1.dat',\n",
       " 'resnet34_stratified_original_imgs_fold1.dat',\n",
       " 'resnet34_stratified_random_erasing_sl.25_sh_.4_fold1.dat',\n",
       " 'resnet34_stratified_random_erasing_sl.25_sh_.4_r1_.5_r2_2.0_fold1.dat',\n",
       " 'resnet34_stratified_scale0.1_fold1.dat',\n",
       " 'resnet34_stratified_scale0.2_fold1.dat',\n",
       " 'label2_resnet34_shift.5_cutout.6_random_label2.dat',\n",
       " 'resnext50_shift.5_cutout.6_random_rotate11_fold1.dat',\n",
       " 'resnet34_aggedfc_stratified_shift.5_cutout.6_random_fold1.dat',\n",
       " 'resnet34_stratified_scalescrop.666_rotate11_fold1.dat',\n",
       " 'resnet34_stratified_scalescrop.333_rotate11_fold1.dat',\n",
       " 'resnet34_stratified_scalescrop.1_rotate11_fold1.dat',\n",
       " 'resnet34_stratified_scalescrop.2_rotate11_fold1.dat',\n",
       " 'bengali_resnet34_stratified_fold1.dat',\n",
       " 'bengali_resnet34_stratified_shift.5_cutout.6_random_fold1.dat',\n",
       " 'bengali_resnext50_stratified_shift.5_cutout.6_random_fold1.dat',\n",
       " 'resnet34_stratified_scalescrop.2_rotate11_cutout.2_fold1.dat',\n",
       " 'resnet34_component_cutout.6_fold1.dat',\n",
       " 'resnet34_stratified_scalescrop.2_rotate11_cutout.4_fold1.dat',\n",
       " 'resnet34_component_cutout.2_fold1.dat',\n",
       " 'resnet34_component_fold1.dat',\n",
       " 'resnet34_stratified_scalescrop.2_rotate11_cutout.6_fold1.dat']"
      ]
     },
     "execution_count": 7,
     "metadata": {},
     "output_type": "execute_result"
    }
   ],
   "source": [
    "os.listdir(\"../models\")"
   ]
  },
  {
   "cell_type": "code",
   "execution_count": 12,
   "metadata": {
    "ExecuteTime": {
     "end_time": "2020-03-10T09:33:21.486981Z",
     "start_time": "2020-03-10T09:33:16.702833Z"
    }
   },
   "outputs": [
    {
     "data": {
      "text/plain": [
       "0"
      ]
     },
     "execution_count": 12,
     "metadata": {},
     "output_type": "execute_result"
    }
   ],
   "source": [
    "loss = []\n",
    "name = []\n",
    "recall = []\n",
    "for model in os.listdir(\"../models\"):\n",
    "    if model[-4:] == \".dat\":\n",
    "        \n",
    "#         if \"shift\" in model:\n",
    "#             pass\n",
    "#         else:\n",
    "#             continue\n",
    "        check = torch.load(\"../models/\"+model, map_location=\"cpu\")\n",
    "        loss.append(check[\"val_best_loss\"])\n",
    "        name.append(model)\n",
    "        \n",
    "        logger_fn = \"../result/{}_train_log_fold1.dat\".format(os.path.splitext(model)[0])\n",
    "        try:\n",
    "#             logger = joblib.load(logger_fn)\n",
    "#             recall.append(np.max(logger[\"val_recall\"]))\n",
    "            recall.append(check[\"val_best_recall\"])\n",
    "        except FileNotFoundError:\n",
    "            recall.append(0)\n",
    "        except KeyError:\n",
    "            recall.append(0)\n",
    "del check\n",
    "gc.collect()    "
   ]
  },
  {
   "cell_type": "markdown",
   "metadata": {},
   "source": [
    "### crop resize best params\n",
    "    --baseline loss:0.11068\n",
    "    \n",
    "    - rotate:11\n",
    "    - shift:0.5\n",
    "    - cutout size:0.6\n"
   ]
  },
  {
   "cell_type": "code",
   "execution_count": 14,
   "metadata": {
    "ExecuteTime": {
     "end_time": "2020-03-10T09:33:28.348548Z",
     "start_time": "2020-03-10T09:33:28.320962Z"
    }
   },
   "outputs": [
    {
     "name": "stdout",
     "output_type": "stream",
     "text": [
      "multi_resnet34_mixup_alpha.3_label1.dat 0.06438 0\n",
      "multi_resnet34_base_label1.dat 0.0651 0\n",
      "multi_resnet34_mixup_alpha.3_label3.dat 0.06767 0\n",
      "multi_resnet34_base_label3.dat 0.07157 0\n",
      "resnext50_shift.5_cutout.6_random_rotate11_fold1.dat 0.07572 0.97368\n",
      "resnet34_stratified_shift.5_cutout.6_random_fold1.dat 0.08271 0.97108\n",
      "bengali_resnext50_stratified_shift.5_cutout.6_random_fold1.dat 0.08305 0.97185\n",
      "resnet34_stratified_shift.5_fold1.dat 0.08316 0.97116\n",
      "resnet34_component_cutout.6_fold1.dat 0.08398 0.96999\n",
      "resnet34_aggedfc_stratified_shift.5_cutout.6_random_fold1.dat 0.08421 0.97198\n",
      "resnet34_stratified_shift.4_fold1.dat 0.08571 0.97098\n",
      "resnet34_stratified_scalescrop.2_rotate11_cutout.4_fold1.dat 0.08645 0.9689\n",
      "resnet34_stratified_cutout.6_random_fold1.dat 0.08865 0.96973\n",
      "resnet34_stratified_scalescrop.2_rotate11_fold1.dat 0.08924 0.96887\n",
      "resnet34_stratified_cutout.6_fold1.dat 0.08928 0\n",
      "resnet34_stratified_random_erasing_sl.25_sh_.4_fold1.dat 0.0906 0.96986\n",
      "resnet34_stratified_cutout.7_fold1.dat 0.09067 0\n",
      "resnet34_stratified_random_erasing_sl.25_sh_.4_r1_.5_r2_2.0_fold1.dat 0.09093 0.96989\n",
      "resnet34_stratified_scalescrop.2_rotate11_cutout.2_fold1.dat 0.09124 0.96655\n",
      "bengali_resnet34_stratified_shift.5_cutout.6_random_fold1.dat 0.09145 0.96765\n",
      "resnet34_stratified_shift.3_fold1.dat 0.09178 0.97028\n",
      "densenet_mixup_alpha.3.dat 0.09222 0\n",
      "resnet34_stratified_scalescrop.333_rotate11_fold1.dat 0.09223 0.96814\n",
      "resnet34_stratified_cutout.5_fold1.dat 0.09246 0\n",
      "resnet34_stratified_scalescrop.05_rotate11_fold1.dat 0.09393 0.9661\n",
      "resnet34_stratified_scalescrop.5_rotate11_fold1.dat 0.09397 0.96962\n",
      "resnet34_stratified_scalescrop.1_rotate11_fold1.dat 0.09406 0.9664\n",
      "resnet34_stratified_shift.3_cutout.6_random_fold1.dat 0.09413 0.96788\n",
      "resnet34_stratified_shift.2_fold1.dat 0.09469 0.9689\n",
      "resnet34_stratified_random_erasing_fold1.dat 0.09477 0\n",
      "resnet34_stratified_rotate11_fold1.dat 0.09498 0.96832\n",
      "resnet34_stratified_cutout.4_fold1.dat 0.0957 0\n",
      "resnet34_stratified_rotate15_fold1.dat 0.0958 0.96835\n",
      "resnet34_stratified_rotate5_fold1.dat 0.09626 0.96738\n",
      "resnet34_stratified_cutout.8_fold1.dat 0.09674 0\n",
      "resnet34_stratified_scalescrop.666_rotate11_fold1.dat 0.09699 0.96827\n",
      "resnet34_component_cutout.2_fold1.dat 0.0972 0.96679\n",
      "resnet34_stratified_rotate8_fold1.dat 0.098 0.96705\n",
      "resnet34_cutmix_alpha.3.dat 0.09905 0\n",
      "resnet34_stratified_shift.1_fold1.dat 0.09975 0.96621\n",
      "resnet34_stratified_cutout.3_fold1.dat 0.10048 0\n",
      "resnext101_mixup_alpha.1.dat 0.10142 0\n",
      "resnext101_cutmix_alpha.1.dat 0.10277 0\n",
      "resnet34_component_fold1.dat 0.10342 0.96565\n",
      "bengali_resnet34_stratified_fold1.dat 0.10401 0.96333\n",
      "resnext101_cutmix_alpha.3.dat 0.10475 0\n",
      "resnet34_stratified_scale0.2_fold1.dat 0.10532 0.96643\n",
      "resnext101_base.dat 0.10569 0\n",
      "resnet34_stratified_scalescrop.2_rotate11_cutout.6_fold1.dat 0.10792 0.96014\n",
      "resnet34_stratified_cutmix.4.dat 0.10819 0\n",
      "resnet34_stratified_scale0.1_fold1.dat 0.10921 0.96175\n",
      "resnet34_stratified.dat 0.11068 0\n",
      "resnet34_stratified_weighted_loss.dat 0.11277 0\n",
      "resnet34_stratified_original_imgs_fold1.dat 0.11279 0.9606\n",
      "resnet34_stratified_shift.01_fold1.dat 0.11456 0\n",
      "label2_resnet34_shift.5_cutout.6_random_label2.dat 0.1264 0.9584\n",
      "multi_resnet34_base_label2.dat 0.15586 0\n",
      "multi_resnet34_mixup_alpha.3_label2.dat 0.15662 0\n",
      "resnet34_stratified_cutout.5.dat 0.20338 0\n",
      "resnet34_mixup_alpha.1.dat 0.25214 0\n",
      "resnet34_mixup_alpha.3.dat 0.25497 0\n",
      "resnet34_cutmix_alpha.1.dat 0.25512 0\n",
      "densenet_augment.dat 0.2567 0\n",
      "resnet34_base.dat 0.25783 0\n",
      "resnet152_augment.dat 0.27619 0\n",
      "resnet34_augment.dat 0.27896 0\n",
      "densenet_base.dat 0.31335 0\n",
      "densenet_cutmix_beta_.1.dat 0.39888 0\n",
      "densenet_cutmix.dat 0.47244 0\n",
      "densenet_mixup_alpha.1.dat 0.68779 0\n",
      "densenet_cutmix_0.2.dat 0.80469 0\n",
      "resnet34_stratified_cutout.1_fold1.dat 2.67899 0\n"
     ]
    }
   ],
   "source": [
    "union = zip(loss, name, recall)\n",
    "union_ = sorted(union, key=lambda x:x[0])\n",
    "\n",
    "loss_, name_, recall_ = zip(*union_)\n",
    "for l, n, r in zip(loss_, name_, recall_):\n",
    "    print(n, round(l, 5), round(r,5))"
   ]
  },
  {
   "cell_type": "code",
   "execution_count": 10,
   "metadata": {
    "ExecuteTime": {
     "end_time": "2020-03-10T09:31:11.492699Z",
     "start_time": "2020-03-10T09:31:11.393587Z"
    }
   },
   "outputs": [],
   "source": [
    "# load logger\n",
    "\n",
    "name = \"resnext50_shift.5_cutout.6_random_rotate11\"\n",
    "\n",
    "def load_model(name):\n",
    "    model_name = \"{}_fold1.dat\".format(name)\n",
    "    # model_name = \"{}.dat\".format(name)\n",
    "    fn = \"../result/\" + model_name\n",
    "\n",
    "    logger_fn = \"../result/{}_train_log_fold1.dat\".format(name)\n",
    "    # logger_fn = \"../result/{}_train_log.dat\".format(name)\n",
    "\n",
    "    checkpoint = torch.load(\"../models/\"+model_name, map_location=\"cpu\")\n",
    "    print(checkpoint[\"val_best_recall\"])\n",
    "    \n",
    "    logger = joblib.load(logger_fn)\n",
    "    \n",
    "    for l in [1,2,3]:\n",
    "        print(l, np.max(logger[\"val_recall_label{}\".format(l)]), np.argmax(logger[\"val_recall_label{}\".format(l)]))\n",
    "    \n",
    "#     label1 = np.max(logger[\"val_recall_label1\"])\n",
    "#     label2 = np.max(logger[\"val_recall_label2\"])\n",
    "#     label3 = np.max(logger[\"val_recall_label3\"])\n",
    "#     print(label1,label2,label3)"
   ]
  },
  {
   "cell_type": "code",
   "execution_count": 7,
   "metadata": {
    "ExecuteTime": {
     "end_time": "2020-03-06T09:19:07.677441Z",
     "start_time": "2020-03-06T09:19:07.486525Z"
    }
   },
   "outputs": [
    {
     "name": "stdout",
     "output_type": "stream",
     "text": [
      "0.9736825651132461\n",
      "1 0.9884605665804064 83\n",
      "2 0.9615692479762217 79\n",
      "3 0.9858118124996451 82\n"
     ]
    }
   ],
   "source": [
    "load_model(name)"
   ]
  },
  {
   "cell_type": "code",
   "execution_count": 8,
   "metadata": {
    "ExecuteTime": {
     "end_time": "2020-03-05T05:00:35.906547Z",
     "start_time": "2020-03-05T05:00:35.701446Z"
    }
   },
   "outputs": [
    {
     "ename": "KeyError",
     "evalue": "'val_best_recall'",
     "output_type": "error",
     "traceback": [
      "\u001b[0;31m---------------------------------------------------------------------------\u001b[0m",
      "\u001b[0;31mKeyError\u001b[0m                                  Traceback (most recent call last)",
      "\u001b[0;32m<ipython-input-8-8142bb3cecc6>\u001b[0m in \u001b[0;36m<module>\u001b[0;34m\u001b[0m\n\u001b[0;32m----> 1\u001b[0;31m \u001b[0mload_model\u001b[0m\u001b[0;34m(\u001b[0m\u001b[0;34m\"resnet34_stratified_cutout.4\"\u001b[0m\u001b[0;34m)\u001b[0m\u001b[0;34m\u001b[0m\u001b[0;34m\u001b[0m\u001b[0m\n\u001b[0m",
      "\u001b[0;32m<ipython-input-4-a4cbe6a0861c>\u001b[0m in \u001b[0;36mload_model\u001b[0;34m(name)\u001b[0m\n\u001b[1;32m     12\u001b[0m \u001b[0;34m\u001b[0m\u001b[0m\n\u001b[1;32m     13\u001b[0m     \u001b[0mcheckpoint\u001b[0m \u001b[0;34m=\u001b[0m \u001b[0mtorch\u001b[0m\u001b[0;34m.\u001b[0m\u001b[0mload\u001b[0m\u001b[0;34m(\u001b[0m\u001b[0;34m\"../models/\"\u001b[0m\u001b[0;34m+\u001b[0m\u001b[0mmodel_name\u001b[0m\u001b[0;34m,\u001b[0m \u001b[0mmap_location\u001b[0m\u001b[0;34m=\u001b[0m\u001b[0;34m\"cpu\"\u001b[0m\u001b[0;34m)\u001b[0m\u001b[0;34m\u001b[0m\u001b[0;34m\u001b[0m\u001b[0m\n\u001b[0;32m---> 14\u001b[0;31m     \u001b[0mcheckpoint\u001b[0m\u001b[0;34m[\u001b[0m\u001b[0;34m\"val_best_recall\"\u001b[0m\u001b[0;34m]\u001b[0m\u001b[0;34m\u001b[0m\u001b[0;34m\u001b[0m\u001b[0m\n\u001b[0m\u001b[1;32m     15\u001b[0m \u001b[0;34m\u001b[0m\u001b[0m\n\u001b[1;32m     16\u001b[0m     \u001b[0mlogger\u001b[0m \u001b[0;34m=\u001b[0m \u001b[0mjoblib\u001b[0m\u001b[0;34m.\u001b[0m\u001b[0mload\u001b[0m\u001b[0;34m(\u001b[0m\u001b[0mlogger_fn\u001b[0m\u001b[0;34m)\u001b[0m\u001b[0;34m\u001b[0m\u001b[0;34m\u001b[0m\u001b[0m\n",
      "\u001b[0;31mKeyError\u001b[0m: 'val_best_recall'"
     ]
    }
   ],
   "source": [
    "load_model(\"resnet34_stratified_cutout.4\")"
   ]
  },
  {
   "cell_type": "code",
   "execution_count": 8,
   "metadata": {
    "ExecuteTime": {
     "end_time": "2020-03-05T00:59:54.550163Z",
     "start_time": "2020-03-05T00:59:54.542134Z"
    }
   },
   "outputs": [
    {
     "name": "stdout",
     "output_type": "stream",
     "text": [
      "0.9863779941255615\n",
      "0.9581219165996442\n",
      "0.9837238878153584\n"
     ]
    }
   ],
   "source": []
  },
  {
   "cell_type": "code",
   "execution_count": 22,
   "metadata": {
    "ExecuteTime": {
     "end_time": "2020-03-04T10:59:18.392872Z",
     "start_time": "2020-03-04T10:59:18.389937Z"
    }
   },
   "outputs": [
    {
     "data": {
      "text/plain": [
       "0.9715864287850521"
      ]
     },
     "execution_count": 22,
     "metadata": {},
     "output_type": "execute_result"
    }
   ],
   "source": [
    "np.average([label1,label2,label3], weights=[1,2,1])"
   ]
  },
  {
   "cell_type": "code",
   "execution_count": null,
   "metadata": {},
   "outputs": [],
   "source": []
  }
 ],
 "metadata": {
  "kernelspec": {
   "display_name": "Python 3",
   "language": "python",
   "name": "python3"
  },
  "language_info": {
   "codemirror_mode": {
    "name": "ipython",
    "version": 3
   },
   "file_extension": ".py",
   "mimetype": "text/x-python",
   "name": "python",
   "nbconvert_exporter": "python",
   "pygments_lexer": "ipython3",
   "version": "3.6.9"
  },
  "toc": {
   "base_numbering": 1,
   "nav_menu": {},
   "number_sections": true,
   "sideBar": true,
   "skip_h1_title": false,
   "title_cell": "Table of Contents",
   "title_sidebar": "Contents",
   "toc_cell": false,
   "toc_position": {},
   "toc_section_display": true,
   "toc_window_display": false
  }
 },
 "nbformat": 4,
 "nbformat_minor": 2
}
