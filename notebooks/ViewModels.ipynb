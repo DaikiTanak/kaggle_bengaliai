{
 "cells": [
  {
   "cell_type": "code",
   "execution_count": 6,
   "metadata": {
    "ExecuteTime": {
     "end_time": "2020-02-19T07:35:14.010844Z",
     "start_time": "2020-02-19T07:35:14.006752Z"
    }
   },
   "outputs": [],
   "source": [
    "import torch\n",
    "import os\n",
    "import numpy as np"
   ]
  },
  {
   "cell_type": "code",
   "execution_count": 2,
   "metadata": {
    "ExecuteTime": {
     "end_time": "2020-02-19T07:33:13.020692Z",
     "start_time": "2020-02-19T07:33:13.007995Z"
    }
   },
   "outputs": [
    {
     "data": {
      "text/plain": [
       "['test.dat',\n",
       " '.ipynb_checkpoints',\n",
       " 'densenet_augment.dat',\n",
       " 'resnet152_augment.dat',\n",
       " 'resnet34_augment.dat',\n",
       " 'densenet_cutmix_0.2.dat',\n",
       " 'densenet_cutmix.dat',\n",
       " 'densenet_cutmix_beta_.1.dat',\n",
       " 'densenet_mixup_alpha.3.dat',\n",
       " 'densenet_mixup_alpha.1.dat',\n",
       " 'resnet34_base.dat',\n",
       " 'resnet34_mixup_alpha.1.dat',\n",
       " 'resnet34_mixup_alpha.3.dat',\n",
       " 'resnet34_cutmix_alpha.1.dat',\n",
       " 'test_label1.dat',\n",
       " 'test_label2.dat',\n",
       " 'test_label3.dat',\n",
       " 'multi_resnet34_base_label1.dat',\n",
       " 'multi_resnet34_base_label2.dat',\n",
       " 'multi_resnet34_base_label3.dat',\n",
       " 'multi_resnet34_mixup_alpha.3_label1.dat',\n",
       " 'multi_resnet34_mixup_alpha.3_label2.dat',\n",
       " 'multi_resnet34_mixup_alpha.3_label3.dat',\n",
       " 'resnet34_cutmix_alpha.3.dat',\n",
       " 'densenet_base.dat']"
      ]
     },
     "execution_count": 2,
     "metadata": {},
     "output_type": "execute_result"
    }
   ],
   "source": [
    "os.listdir(\"../models\")"
   ]
  },
  {
   "cell_type": "code",
   "execution_count": 11,
   "metadata": {
    "ExecuteTime": {
     "end_time": "2020-02-19T07:36:02.782054Z",
     "start_time": "2020-02-19T07:35:50.674407Z"
    }
   },
   "outputs": [],
   "source": [
    "loss = []\n",
    "name = []\n",
    "for model in os.listdir(\"../models\"):\n",
    "    if model[-4:] == \".dat\":\n",
    "        check = torch.load(\"../models/\"+model)\n",
    "        loss.append(check[\"val_best_loss\"])\n",
    "        name.append(model)"
   ]
  },
  {
   "cell_type": "code",
   "execution_count": 12,
   "metadata": {
    "ExecuteTime": {
     "end_time": "2020-02-19T07:36:02.787413Z",
     "start_time": "2020-02-19T07:36:02.783839Z"
    }
   },
   "outputs": [
    {
     "name": "stdout",
     "output_type": "stream",
     "text": [
      "best_loss:0.06437619097507113 at multi_resnet34_mixup_alpha.3_label1.dat\n"
     ]
    }
   ],
   "source": [
    "print(\"best_loss:{} at {}\".format(np.min(loss), name[np.argmin(loss)]))"
   ]
  },
  {
   "cell_type": "code",
   "execution_count": 13,
   "metadata": {
    "ExecuteTime": {
     "end_time": "2020-02-19T07:37:20.524803Z",
     "start_time": "2020-02-19T07:37:20.513001Z"
    }
   },
   "outputs": [
    {
     "name": "stdout",
     "output_type": "stream",
     "text": [
      "test.dat 0.5991193859499707\n",
      "densenet_augment.dat 0.2566972454935683\n",
      "resnet152_augment.dat 0.27619401083805073\n",
      "resnet34_augment.dat 0.27896351567400035\n",
      "densenet_cutmix_0.2.dat 0.8046863052382398\n",
      "densenet_cutmix.dat 0.47243896249070094\n",
      "densenet_cutmix_beta_.1.dat 0.3988814237736054\n",
      "densenet_mixup_alpha.3.dat 0.09221935969014623\n",
      "densenet_mixup_alpha.1.dat 0.6877897131205791\n",
      "resnet34_base.dat 0.2578260284035828\n",
      "resnet34_mixup_alpha.1.dat 0.2521397165811745\n",
      "resnet34_mixup_alpha.3.dat 0.2549669882579214\n",
      "resnet34_cutmix_alpha.1.dat 0.2551157158935905\n",
      "test_label1.dat 2.2528340727535645\n",
      "test_label2.dat 5.05460340822514\n",
      "test_label3.dat 1.4840098023414612\n",
      "multi_resnet34_base_label1.dat 0.06509676432106526\n",
      "multi_resnet34_base_label2.dat 0.15586239935913285\n",
      "multi_resnet34_base_label3.dat 0.0715733741819384\n",
      "multi_resnet34_mixup_alpha.3_label1.dat 0.06437619097507113\n",
      "multi_resnet34_mixup_alpha.3_label2.dat 0.1566208321245233\n",
      "multi_resnet34_mixup_alpha.3_label3.dat 0.06767378990081654\n",
      "resnet34_cutmix_alpha.3.dat 0.09905216470064157\n",
      "densenet_base.dat 0.31335173565338353\n"
     ]
    }
   ],
   "source": [
    "for l, n in zip(loss, name):\n",
    "    print(n, l)"
   ]
  },
  {
   "cell_type": "code",
   "execution_count": null,
   "metadata": {},
   "outputs": [],
   "source": []
  }
 ],
 "metadata": {
  "kernelspec": {
   "display_name": "Python 3",
   "language": "python",
   "name": "python3"
  },
  "language_info": {
   "codemirror_mode": {
    "name": "ipython",
    "version": 3
   },
   "file_extension": ".py",
   "mimetype": "text/x-python",
   "name": "python",
   "nbconvert_exporter": "python",
   "pygments_lexer": "ipython3",
   "version": "3.6.9"
  },
  "toc": {
   "base_numbering": 1,
   "nav_menu": {},
   "number_sections": true,
   "sideBar": true,
   "skip_h1_title": false,
   "title_cell": "Table of Contents",
   "title_sidebar": "Contents",
   "toc_cell": false,
   "toc_position": {},
   "toc_section_display": true,
   "toc_window_display": false
  }
 },
 "nbformat": 4,
 "nbformat_minor": 2
}
