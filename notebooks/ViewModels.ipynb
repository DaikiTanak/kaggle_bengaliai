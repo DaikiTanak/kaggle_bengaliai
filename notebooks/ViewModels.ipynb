{
 "cells": [
  {
   "cell_type": "code",
   "execution_count": 1,
   "metadata": {
    "ExecuteTime": {
     "end_time": "2020-02-27T08:46:32.626698Z",
     "start_time": "2020-02-27T08:46:32.132618Z"
    }
   },
   "outputs": [],
   "source": [
    "import torch\n",
    "import os\n",
    "import numpy as np\n",
    "import gc"
   ]
  },
  {
   "cell_type": "code",
   "execution_count": 2,
   "metadata": {
    "ExecuteTime": {
     "end_time": "2020-02-27T08:46:32.635482Z",
     "start_time": "2020-02-27T08:46:32.627911Z"
    }
   },
   "outputs": [
    {
     "data": {
      "text/plain": [
       "['test.dat',\n",
       " '.ipynb_checkpoints',\n",
       " 'densenet_augment.dat',\n",
       " 'resnet152_augment.dat',\n",
       " 'resnet34_augment.dat',\n",
       " 'densenet_cutmix_0.2.dat',\n",
       " 'densenet_cutmix.dat',\n",
       " 'densenet_cutmix_beta_.1.dat',\n",
       " 'densenet_mixup_alpha.3.dat',\n",
       " 'densenet_mixup_alpha.1.dat',\n",
       " 'resnet34_base.dat',\n",
       " 'resnet34_mixup_alpha.1.dat',\n",
       " 'resnet34_mixup_alpha.3.dat',\n",
       " 'resnet34_cutmix_alpha.1.dat',\n",
       " 'test_label1.dat',\n",
       " 'test_label2.dat',\n",
       " 'test_label3.dat',\n",
       " 'multi_resnet34_base_label1.dat',\n",
       " 'multi_resnet34_base_label2.dat',\n",
       " 'multi_resnet34_base_label3.dat',\n",
       " 'multi_resnet34_mixup_alpha.3_label1.dat',\n",
       " 'multi_resnet34_mixup_alpha.3_label2.dat',\n",
       " 'multi_resnet34_mixup_alpha.3_label3.dat',\n",
       " 'resnet34_cutmix_alpha.3.dat',\n",
       " 'densenet_base.dat',\n",
       " 'resnext101_base.dat',\n",
       " 'resnext101_cutmix_alpha.3.dat',\n",
       " 'resnext101_cutmix_alpha.1.dat',\n",
       " 'resnext101_mixup_alpha.1.dat',\n",
       " 'resnet34_stratified.dat',\n",
       " 'resnet34_stratified_cutmix.4.dat',\n",
       " 'resnet34_stratified_cutout.5.dat',\n",
       " 'resnet34_stratified_weighted_loss.dat',\n",
       " 'resnet34_stratified_cutout.5_fold1.dat',\n",
       " 'resnet34_stratified_cutout.3_fold1.dat',\n",
       " 'resnet34_stratified_cutout.1_fold1.dat',\n",
       " 'resnet34_stratified_cutout.4_fold1.dat']"
      ]
     },
     "execution_count": 2,
     "metadata": {},
     "output_type": "execute_result"
    }
   ],
   "source": [
    "os.listdir(\"../models\")"
   ]
  },
  {
   "cell_type": "code",
   "execution_count": 3,
   "metadata": {
    "ExecuteTime": {
     "end_time": "2020-02-27T08:47:48.865380Z",
     "start_time": "2020-02-27T08:46:55.463221Z"
    }
   },
   "outputs": [],
   "source": [
    "loss = []\n",
    "name = []\n",
    "for model in os.listdir(\"../models\"):\n",
    "    if model[-4:] == \".dat\":\n",
    "        check = torch.load(\"../models/\"+model)\n",
    "        loss.append(check[\"val_best_loss\"])\n",
    "        name.append(model)\n",
    "del check\n",
    "gc.collect()    "
   ]
  },
  {
   "cell_type": "code",
   "execution_count": 12,
   "metadata": {
    "ExecuteTime": {
     "end_time": "2020-02-19T07:36:02.787413Z",
     "start_time": "2020-02-19T07:36:02.783839Z"
    }
   },
   "outputs": [
    {
     "name": "stdout",
     "output_type": "stream",
     "text": [
      "best_loss:0.06437619097507113 at multi_resnet34_mixup_alpha.3_label1.dat\n"
     ]
    }
   ],
   "source": [
    "print(\"best_loss:{} at {}\".format(np.min(loss), name[np.argmin(loss)]))"
   ]
  },
  {
   "cell_type": "code",
   "execution_count": 7,
   "metadata": {
    "ExecuteTime": {
     "end_time": "2020-02-27T08:48:27.016208Z",
     "start_time": "2020-02-27T08:48:27.003677Z"
    }
   },
   "outputs": [
    {
     "name": "stdout",
     "output_type": "stream",
     "text": [
      "multi_resnet34_mixup_alpha.3_label1.dat 0.06437619097507113\n",
      "multi_resnet34_base_label1.dat 0.06509676432106526\n",
      "multi_resnet34_mixup_alpha.3_label3.dat 0.06767378990081654\n",
      "multi_resnet34_base_label3.dat 0.0715733741819384\n",
      "resnet34_stratified_cutout.5_fold1.dat 0.09213537579869727\n",
      "densenet_mixup_alpha.3.dat 0.09221935969014623\n",
      "resnet34_cutmix_alpha.3.dat 0.09905216470064157\n",
      "resnet34_stratified_cutout.3_fold1.dat 0.10048231092362435\n",
      "resnext101_mixup_alpha.1.dat 0.10141561904039456\n",
      "resnext101_cutmix_alpha.1.dat 0.10276614000675596\n",
      "resnext101_cutmix_alpha.3.dat 0.10475455992189074\n",
      "resnext101_base.dat 0.10568557984092267\n",
      "resnet34_stratified_cutmix.4.dat 0.10818662666177042\n",
      "resnet34_stratified.dat 0.11068438437859418\n",
      "resnet34_stratified_weighted_loss.dat 0.11276698226644309\n",
      "multi_resnet34_base_label2.dat 0.15586239935913285\n",
      "multi_resnet34_mixup_alpha.3_label2.dat 0.1566208321245233\n",
      "resnet34_stratified_cutout.5.dat 0.20338127073317547\n",
      "resnet34_mixup_alpha.1.dat 0.2521397165811745\n",
      "resnet34_mixup_alpha.3.dat 0.2549669882579214\n",
      "resnet34_cutmix_alpha.1.dat 0.2551157158935905\n",
      "densenet_augment.dat 0.2566972454935683\n",
      "resnet34_base.dat 0.2578260284035828\n",
      "resnet152_augment.dat 0.27619401083805073\n",
      "resnet34_augment.dat 0.27896351567400035\n",
      "resnet34_stratified_cutout.1_fold1.dat 0.2978948066497583\n",
      "densenet_base.dat 0.31335173565338353\n",
      "densenet_cutmix_beta_.1.dat 0.3988814237736054\n",
      "densenet_cutmix.dat 0.47243896249070094\n",
      "test.dat 0.5991193859499707\n",
      "densenet_mixup_alpha.1.dat 0.6877897131205791\n",
      "densenet_cutmix_0.2.dat 0.8046863052382398\n",
      "test_label3.dat 1.4840098023414612\n",
      "resnet34_stratified_cutout.4_fold1.dat 1.8745475917943377\n",
      "test_label1.dat 2.2528340727535645\n",
      "test_label2.dat 5.05460340822514\n"
     ]
    }
   ],
   "source": [
    "union = zip(loss, name)\n",
    "union_ = sorted(union, key=lambda x:x[0])\n",
    "\n",
    "loss, name = zip(*union_)\n",
    "for l, n in zip(loss, name):\n",
    "    print(n, l)"
   ]
  },
  {
   "cell_type": "code",
   "execution_count": null,
   "metadata": {},
   "outputs": [],
   "source": []
  }
 ],
 "metadata": {
  "kernelspec": {
   "display_name": "Python 3",
   "language": "python",
   "name": "python3"
  },
  "language_info": {
   "codemirror_mode": {
    "name": "ipython",
    "version": 3
   },
   "file_extension": ".py",
   "mimetype": "text/x-python",
   "name": "python",
   "nbconvert_exporter": "python",
   "pygments_lexer": "ipython3",
   "version": "3.6.9"
  },
  "toc": {
   "base_numbering": 1,
   "nav_menu": {},
   "number_sections": true,
   "sideBar": true,
   "skip_h1_title": false,
   "title_cell": "Table of Contents",
   "title_sidebar": "Contents",
   "toc_cell": false,
   "toc_position": {},
   "toc_section_display": true,
   "toc_window_display": false
  }
 },
 "nbformat": 4,
 "nbformat_minor": 2
}
